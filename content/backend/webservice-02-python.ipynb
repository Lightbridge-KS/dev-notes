{
 "cells": [
  {
   "cell_type": "markdown",
   "metadata": {},
   "source": [
    "# Webservice Python"
   ]
  },
  {
   "cell_type": "markdown",
   "metadata": {},
   "source": [
    "## Method Summary with Python (`requests`)\n",
    "\n",
    "\n",
    "| HTTP Method | `requests` Function | Purpose                  | Response Codes (Typical Success) |\n",
    "|-------------|---------------------|--------------------------|----------------------------------|\n",
    "| GET         | `requests.get()`    | Retrieve resource/data   | `200 OK`                         |\n",
    "| POST        | `requests.post()`   | Create a new resource    | `201 Created`                    |\n",
    "| PUT         | `requests.put()`    | Update existing resource | `200 OK`                         |\n",
    "| DELETE      | `requests.delete()` | Delete resource          | `200 OK`, `204 No Content`       |\n",
    "\n",
    "---\n",
    "\n",
    "This structure provides a clear, practical way of interacting with RESTful APIs through Python."
   ]
  },
  {
   "cell_type": "markdown",
   "metadata": {},
   "source": [
    "## GET Request (Retrieve Data)"
   ]
  },
  {
   "cell_type": "code",
   "execution_count": 3,
   "metadata": {},
   "outputs": [
    {
     "data": {
      "text/plain": [
       "<Response [200]>"
      ]
     },
     "execution_count": 3,
     "metadata": {},
     "output_type": "execute_result"
    }
   ],
   "source": [
    "import requests\n",
    "\n",
    "response = requests.get(\"https://jsonplaceholder.typicode.com/posts/1\")\n",
    "response"
   ]
  },
  {
   "cell_type": "code",
   "execution_count": 7,
   "metadata": {},
   "outputs": [
    {
     "data": {
      "text/plain": [
       "{'userId': 1,\n",
       " 'id': 1,\n",
       " 'title': 'sunt aut facere repellat provident occaecati excepturi optio reprehenderit',\n",
       " 'body': 'quia et suscipit\\nsuscipit recusandae consequuntur expedita et cum\\nreprehenderit molestiae ut ut quas totam\\nnostrum rerum est autem sunt rem eveniet architecto'}"
      ]
     },
     "execution_count": 7,
     "metadata": {},
     "output_type": "execute_result"
    }
   ],
   "source": [
    "response.json()"
   ]
  },
  {
   "cell_type": "markdown",
   "metadata": {},
   "source": [
    "## POST Request (Send Data)"
   ]
  },
  {
   "cell_type": "code",
   "execution_count": 10,
   "metadata": {},
   "outputs": [],
   "source": [
    "import requests\n",
    "\n",
    "payload = {\n",
    "    \"title\": \"Hello World\",\n",
    "    \"body\": \"This is my first API request!\",\n",
    "    \"userId\": 1\n",
    "}\n",
    "\n",
    "response = requests.post(\n",
    "    \"https://jsonplaceholder.typicode.com/posts\",\n",
    "    json=payload\n",
    ")"
   ]
  },
  {
   "cell_type": "code",
   "execution_count": 11,
   "metadata": {},
   "outputs": [
    {
     "name": "stdout",
     "output_type": "stream",
     "text": [
      "Created: {'title': 'Hello World', 'body': 'This is my first API request!', 'userId': 1, 'id': 101}\n"
     ]
    }
   ],
   "source": [
    "if response.status_code == 201:  # 201 Created\n",
    "    data = response.json()\n",
    "    print(\"Created:\", data)\n",
    "else:\n",
    "    print(\"Error:\", response.status_code)"
   ]
  },
  {
   "cell_type": "markdown",
   "metadata": {},
   "source": [
    "## PUT Request (Update Data)"
   ]
  },
  {
   "cell_type": "code",
   "execution_count": 12,
   "metadata": {},
   "outputs": [],
   "source": [
    "import requests\n",
    "\n",
    "updated_payload = {\n",
    "    \"title\": \"Updated Title\",\n",
    "    \"body\": \"Updated body content\",\n",
    "    \"userId\": 1\n",
    "}\n",
    "\n",
    "response = requests.put(\n",
    "    \"https://jsonplaceholder.typicode.com/posts/1\",\n",
    "    json=updated_payload\n",
    ")"
   ]
  },
  {
   "cell_type": "code",
   "execution_count": 13,
   "metadata": {},
   "outputs": [
    {
     "name": "stdout",
     "output_type": "stream",
     "text": [
      "Updated: {'title': 'Updated Title', 'body': 'Updated body content', 'userId': 1, 'id': 1}\n"
     ]
    }
   ],
   "source": [
    "if response.status_code == 200:\n",
    "    data = response.json()\n",
    "    print(\"Updated:\", data)\n",
    "else:\n",
    "    print(\"Error:\", response.status_code)\n"
   ]
  },
  {
   "cell_type": "markdown",
   "metadata": {},
   "source": [
    "## DELETE Request (Remove Data)"
   ]
  },
  {
   "cell_type": "code",
   "execution_count": 14,
   "metadata": {},
   "outputs": [
    {
     "name": "stdout",
     "output_type": "stream",
     "text": [
      "Deleted successfully.\n"
     ]
    }
   ],
   "source": [
    "import requests\n",
    "\n",
    "response = requests.delete(\"https://jsonplaceholder.typicode.com/posts/1\")\n",
    "\n",
    "if response.status_code == 200 or response.status_code == 204:\n",
    "    print(\"Deleted successfully.\")\n",
    "else:\n",
    "    print(\"Error:\", response.status_code)\n"
   ]
  }
 ],
 "metadata": {
  "kernelspec": {
   "display_name": "base",
   "language": "python",
   "name": "python3"
  },
  "language_info": {
   "codemirror_mode": {
    "name": "ipython",
    "version": 3
   },
   "file_extension": ".py",
   "mimetype": "text/x-python",
   "name": "python",
   "nbconvert_exporter": "python",
   "pygments_lexer": "ipython3",
   "version": "3.12.8"
  }
 },
 "nbformat": 4,
 "nbformat_minor": 2
}
